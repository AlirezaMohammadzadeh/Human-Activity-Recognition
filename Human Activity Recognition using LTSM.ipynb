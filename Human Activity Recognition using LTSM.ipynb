{
 "cells": [
  {
   "cell_type": "markdown",
   "id": "be727f21",
   "metadata": {},
   "source": [
    "# Human Activity Recognition using LSTM"
   ]
  },
  {
   "cell_type": "code",
   "execution_count": 119,
   "id": "65046b8c",
   "metadata": {},
   "outputs": [],
   "source": [
    "import numpy as np \n",
    "import pandas as pd\n",
    "import matplotlib.pyplot as plt\n",
    "import seaborn as sns\n",
    "import warnings\n",
    "from sklearn.model_selection import train_test_split\n",
    "from keras.models import Sequential\n",
    "from keras.layers import LSTM, Dense, Flatten, Dropout"
   ]
  },
  {
   "cell_type": "markdown",
   "id": "e8a72e2b",
   "metadata": {},
   "source": [
    "# Data Cleaning & Preprocessing"
   ]
  },
  {
   "cell_type": "code",
   "execution_count": 120,
   "id": "d5dec0ed",
   "metadata": {},
   "outputs": [
    {
     "name": "stdout",
     "output_type": "stream",
     "text": [
      "An error happend in processing data line : 281873\n",
      "An error happend in processing data line : 281874\n",
      "An error happend in processing data line : 281875\n"
     ]
    }
   ],
   "source": [
    "#open data.txt\n",
    "file = open('data.txt')\n",
    "lines = file.readlines()\n",
    "#process lines and insert data to a list\n",
    "processedList = []\n",
    "for i, line in enumerate(lines):\n",
    "    try:\n",
    "        line = line.split(',')\n",
    "        last = line[5].split(';')[0]\n",
    "        last = last.strip()\n",
    "        if last == '':\n",
    "            break;\n",
    "        temp = [line[0], line[1], line[2], line[3], line[4], last]\n",
    "        processedList.append(temp)\n",
    "    except:\n",
    "        print(f'An error happend in processing data line : {i}')"
   ]
  },
  {
   "cell_type": "code",
   "execution_count": 121,
   "id": "b7730281",
   "metadata": {},
   "outputs": [
    {
     "data": {
      "text/html": [
       "<div>\n",
       "<style scoped>\n",
       "    .dataframe tbody tr th:only-of-type {\n",
       "        vertical-align: middle;\n",
       "    }\n",
       "\n",
       "    .dataframe tbody tr th {\n",
       "        vertical-align: top;\n",
       "    }\n",
       "\n",
       "    .dataframe thead th {\n",
       "        text-align: right;\n",
       "    }\n",
       "</style>\n",
       "<table border=\"1\" class=\"dataframe\">\n",
       "  <thead>\n",
       "    <tr style=\"text-align: right;\">\n",
       "      <th></th>\n",
       "      <th>User</th>\n",
       "      <th>Activity</th>\n",
       "      <th>Time</th>\n",
       "      <th>x</th>\n",
       "      <th>y</th>\n",
       "      <th>z</th>\n",
       "    </tr>\n",
       "  </thead>\n",
       "  <tbody>\n",
       "    <tr>\n",
       "      <th>0</th>\n",
       "      <td>33</td>\n",
       "      <td>Jogging</td>\n",
       "      <td>49105962326000</td>\n",
       "      <td>-0.6946377</td>\n",
       "      <td>12.680544</td>\n",
       "      <td>0.50395286</td>\n",
       "    </tr>\n",
       "    <tr>\n",
       "      <th>1</th>\n",
       "      <td>33</td>\n",
       "      <td>Jogging</td>\n",
       "      <td>49106062271000</td>\n",
       "      <td>5.012288</td>\n",
       "      <td>11.264028</td>\n",
       "      <td>0.95342433</td>\n",
       "    </tr>\n",
       "    <tr>\n",
       "      <th>2</th>\n",
       "      <td>33</td>\n",
       "      <td>Jogging</td>\n",
       "      <td>49106112167000</td>\n",
       "      <td>4.903325</td>\n",
       "      <td>10.882658</td>\n",
       "      <td>-0.08172209</td>\n",
       "    </tr>\n",
       "    <tr>\n",
       "      <th>3</th>\n",
       "      <td>33</td>\n",
       "      <td>Jogging</td>\n",
       "      <td>49106222305000</td>\n",
       "      <td>-0.61291564</td>\n",
       "      <td>18.496431</td>\n",
       "      <td>3.0237172</td>\n",
       "    </tr>\n",
       "    <tr>\n",
       "      <th>4</th>\n",
       "      <td>33</td>\n",
       "      <td>Jogging</td>\n",
       "      <td>49106332290000</td>\n",
       "      <td>-1.1849703</td>\n",
       "      <td>12.108489</td>\n",
       "      <td>7.205164</td>\n",
       "    </tr>\n",
       "  </tbody>\n",
       "</table>\n",
       "</div>"
      ],
      "text/plain": [
       "  User Activity            Time            x          y            z\n",
       "0   33  Jogging  49105962326000   -0.6946377  12.680544   0.50395286\n",
       "1   33  Jogging  49106062271000     5.012288  11.264028   0.95342433\n",
       "2   33  Jogging  49106112167000     4.903325  10.882658  -0.08172209\n",
       "3   33  Jogging  49106222305000  -0.61291564  18.496431    3.0237172\n",
       "4   33  Jogging  49106332290000   -1.1849703  12.108489     7.205164"
      ]
     },
     "execution_count": 121,
     "metadata": {},
     "output_type": "execute_result"
    }
   ],
   "source": [
    "#create a DataFrame with the processed data and proper column names \n",
    "columns = ['User', 'Activity', 'Time', 'x', 'y', 'z']\n",
    "data = pd.DataFrame(data = processedList, columns = columns)\n",
    "data.head()"
   ]
  },
  {
   "cell_type": "code",
   "execution_count": 122,
   "id": "dfd055bf",
   "metadata": {},
   "outputs": [],
   "source": [
    "#convert x,y,z to floar data type (Its string)\n",
    "data['x'] = data['x'].astype('float')\n",
    "data['y'] = data['y'].astype('float')\n",
    "data['z'] = data['z'].astype('float')"
   ]
  },
  {
   "cell_type": "markdown",
   "id": "560a6377",
   "metadata": {},
   "source": [
    "# Analyzing class label distribution"
   ]
  },
  {
   "cell_type": "code",
   "execution_count": 123,
   "id": "ab41c962",
   "metadata": {},
   "outputs": [
    {
     "data": {
      "image/png": "[encoded data removed]",
      "text/plain": [
       "<Figure size 640x480 with 1 Axes>"
      ]
     },
     "metadata": {},
     "output_type": "display_data"
    }
   ],
   "source": [
    "sns.set_style('whitegrid')\n",
    "sns.countplot(x = 'Activity', data = data)\n",
    "plt.title('Number of Activities')\n",
    "plt.show()"
   ]
  },
  {
   "cell_type": "markdown",
   "id": "209c8cc7",
   "metadata": {},
   "source": [
    "# Preparing Data"
   ]
  },
  {
   "cell_type": "code",
   "execution_count": 124,
   "id": "93b9433d",
   "metadata": {},
   "outputs": [
    {
     "name": "stderr",
     "output_type": "stream",
     "text": [
      "C:\\Users\\Alireza\\AppData\\Local\\Temp\\ipykernel_12164\\543383494.py:25: FutureWarning: Unlike other reduction functions (e.g. `skew`, `kurtosis`), the default behavior of `mode` typically preserves the axis it acts along. In SciPy 1.11.0, this behavior will change: the default value of `keepdims` will become False, the `axis` over which the statistic is taken will be eliminated, and the value None will no longer be accepted. Set `keepdims` to True or False to avoid this warning.\n",
      "  label = stats.mode(df['Activity'][i: i + 50])[0][0]\n",
      "C:\\Users\\Alireza\\anaconda3\\lib\\site-packages\\scipy\\stats\\_stats_py.py:110: RuntimeWarning: The input array could not be properly checked for nan values. nan values will be ignored.\n",
      "  warnings.warn(\"The input array could not be properly \"\n",
      "C:\\Users\\Alireza\\AppData\\Local\\Temp\\ipykernel_12164\\543383494.py:25: DeprecationWarning: Support for non-numeric arrays has been deprecated as of SciPy 1.9.0 and will be removed in 1.11.0. `pandas.DataFrame.mode` can be used instead, see https://pandas.pydata.org/docs/reference/api/pandas.DataFrame.mode.html.\n",
      "  label = stats.mode(df['Activity'][i: i + 50])[0][0]\n"
     ]
    }
   ],
   "source": [
    "#The LSTM model expects fixed-length sequences as training data\n",
    "#Each generated sequence (or window)\n",
    "#contains 50 records corresponding to 2.5 secs of activity \n",
    "random_seed = 42   \n",
    "n_time_steps = 50 \n",
    "n_features = 3 \n",
    "step = 10 \n",
    "n_classes = 6 \n",
    "n_epochs = 50       \n",
    "batch_size = 1024   \n",
    "learning_rate = 0.0025\n",
    "l2_loss = 0.0015\n",
    "\n",
    "segments = []\n",
    "labels = []\n",
    "\n",
    "for i in range(0,  df.shape[0]- n_time_steps, step):  \n",
    "\n",
    "    xs = data['x'].values[i: i + 50]\n",
    "\n",
    "    ys = data['y'].values[i: i + 50]\n",
    "\n",
    "    zs = data['z'].values[i: i + 50]\n",
    "\n",
    "    label = stats.mode(df['Activity'][i: i + 50])[0][0]\n",
    "\n",
    "    segments.append([xs, ys, zs])\n",
    "\n",
    "    labels.append(label)\n",
    "\n",
    "#reshape the segments \n",
    "reshaped_segments = np.asarray(segments, dtype= np.float32).reshape(-1, n_time_steps, n_features)\n",
    "\n",
    "labels = np.asarray(pd.get_dummies(labels), dtype = np.float32)"
   ]
  },
  {
   "cell_type": "markdown",
   "id": "134a418f",
   "metadata": {},
   "source": [
    "we have considered overlapping windows (with 80% overlap) of data"
   ]
  },
  {
   "cell_type": "code",
   "execution_count": 125,
   "id": "dacf5c49",
   "metadata": {},
   "outputs": [
    {
     "data": {
      "text/plain": [
       "(34337, 50, 3)"
      ]
     },
     "execution_count": 125,
     "metadata": {},
     "output_type": "execute_result"
    }
   ],
   "source": [
    "reshaped_segments.shape"
   ]
  },
  {
   "cell_type": "markdown",
   "id": "f590f6a3",
   "metadata": {},
   "source": [
    "# Splitting data into train and test sets"
   ]
  },
  {
   "cell_type": "code",
   "execution_count": 126,
   "id": "7ac23493",
   "metadata": {},
   "outputs": [],
   "source": [
    "X_train, X_test, y_train, y_test = train_test_split(reshaped_segments, labels, test_size = 0.2, random_state = random_seed)"
   ]
  },
  {
   "cell_type": "markdown",
   "id": "3d43b49a",
   "metadata": {},
   "source": [
    "# Building Model Architecture"
   ]
  },
  {
   "cell_type": "code",
   "execution_count": 127,
   "id": "f8992d7e",
   "metadata": {},
   "outputs": [],
   "source": [
    "model = Sequential()\n",
    "# RNN layer\n",
    "model.add(LSTM(units = 128, input_shape = (X_train.shape[1], X_train.shape[2])))\n",
    "# Dropout layer\n",
    "model.add(Dropout(0.5)) \n",
    "# Dense layer with ReLu\n",
    "model.add(Dense(units = 64, activation='relu'))\n",
    "# Softmax layer\n",
    "model.add(Dense(y_train.shape[1], activation = 'softmax'))\n",
    "# Compile model\n",
    "model.compile(loss='categorical_crossentropy', optimizer='adam', metrics=['accuracy'])"
   ]
  },
  {
   "cell_type": "code",
   "execution_count": 128,
   "id": "14d9df86",
   "metadata": {},
   "outputs": [
    {
     "name": "stdout",
     "output_type": "stream",
     "text": [
      "Model: \"sequential_4\"\n",
      "_________________________________________________________________\n",
      " Layer (type)                Output Shape              Param #   \n",
      "=================================================================\n",
      " lstm_1 (LSTM)               (None, 128)               67584     \n",
      "                                                                 \n",
      " dropout_7 (Dropout)         (None, 128)               0         \n",
      "                                                                 \n",
      " dense_6 (Dense)             (None, 64)                8256      \n",
      "                                                                 \n",
      " dense_7 (Dense)             (None, 6)                 390       \n",
      "                                                                 \n",
      "=================================================================\n",
      "Total params: 76,230\n",
      "Trainable params: 76,230\n",
      "Non-trainable params: 0\n",
      "_________________________________________________________________\n"
     ]
    }
   ],
   "source": [
    "model.summary()"
   ]
  },
  {
   "cell_type": "code",
   "execution_count": 129,
   "id": "877d6657",
   "metadata": {},
   "outputs": [
    {
     "name": "stdout",
     "output_type": "stream",
     "text": [
      "Epoch 1/50\n",
      "22/22 [==============================] - 9s 334ms/step - loss: 1.3585 - accuracy: 0.4808 - val_loss: 0.8519 - val_accuracy: 0.7181\n",
      "Epoch 2/50\n",
      "22/22 [==============================] - 7s 314ms/step - loss: 0.7034 - accuracy: 0.7697 - val_loss: 0.5623 - val_accuracy: 0.8134\n",
      "Epoch 3/50\n",
      "22/22 [==============================] - 7s 313ms/step - loss: 0.5589 - accuracy: 0.8037 - val_loss: 0.4793 - val_accuracy: 0.8220\n",
      "Epoch 4/50\n",
      "22/22 [==============================] - 6s 278ms/step - loss: 0.4919 - accuracy: 0.8223 - val_loss: 0.4313 - val_accuracy: 0.8420\n",
      "Epoch 5/50\n",
      "22/22 [==============================] - 6s 270ms/step - loss: 0.4526 - accuracy: 0.8371 - val_loss: 0.3927 - val_accuracy: 0.8600\n",
      "Epoch 6/50\n",
      "22/22 [==============================] - 6s 286ms/step - loss: 0.4226 - accuracy: 0.8473 - val_loss: 0.3790 - val_accuracy: 0.8617\n",
      "Epoch 7/50\n",
      "22/22 [==============================] - 6s 281ms/step - loss: 0.3960 - accuracy: 0.8562 - val_loss: 0.3379 - val_accuracy: 0.8757\n",
      "Epoch 8/50\n",
      "22/22 [==============================] - 6s 274ms/step - loss: 0.3611 - accuracy: 0.8671 - val_loss: 0.3335 - val_accuracy: 0.8659\n",
      "Epoch 9/50\n",
      "22/22 [==============================] - 6s 279ms/step - loss: 0.3472 - accuracy: 0.8678 - val_loss: 0.3221 - val_accuracy: 0.8739\n",
      "Epoch 10/50\n",
      "22/22 [==============================] - 6s 280ms/step - loss: 0.3244 - accuracy: 0.8760 - val_loss: 0.2799 - val_accuracy: 0.8886\n",
      "Epoch 11/50\n",
      "22/22 [==============================] - 6s 281ms/step - loss: 0.3107 - accuracy: 0.8808 - val_loss: 0.2846 - val_accuracy: 0.8848\n",
      "Epoch 12/50\n",
      "22/22 [==============================] - 6s 284ms/step - loss: 0.2972 - accuracy: 0.8861 - val_loss: 0.2663 - val_accuracy: 0.8941\n",
      "Epoch 13/50\n",
      "22/22 [==============================] - 6s 280ms/step - loss: 0.2869 - accuracy: 0.8895 - val_loss: 0.2706 - val_accuracy: 0.8895\n",
      "Epoch 14/50\n",
      "22/22 [==============================] - 6s 286ms/step - loss: 0.2766 - accuracy: 0.8931 - val_loss: 0.2697 - val_accuracy: 0.8942\n",
      "Epoch 15/50\n",
      "22/22 [==============================] - 6s 281ms/step - loss: 0.2713 - accuracy: 0.8935 - val_loss: 0.2372 - val_accuracy: 0.9032\n",
      "Epoch 16/50\n",
      "22/22 [==============================] - 6s 275ms/step - loss: 0.2481 - accuracy: 0.9054 - val_loss: 0.2194 - val_accuracy: 0.9199\n",
      "Epoch 17/50\n",
      "22/22 [==============================] - 6s 295ms/step - loss: 0.2409 - accuracy: 0.9080 - val_loss: 0.2083 - val_accuracy: 0.9237\n",
      "Epoch 18/50\n",
      "22/22 [==============================] - 6s 296ms/step - loss: 0.2267 - accuracy: 0.9154 - val_loss: 0.2082 - val_accuracy: 0.9186\n",
      "Epoch 19/50\n",
      "22/22 [==============================] - 6s 290ms/step - loss: 0.2142 - accuracy: 0.9201 - val_loss: 0.1963 - val_accuracy: 0.9345\n",
      "Epoch 20/50\n",
      "22/22 [==============================] - 6s 284ms/step - loss: 0.1954 - accuracy: 0.9286 - val_loss: 0.1936 - val_accuracy: 0.9286\n",
      "Epoch 21/50\n",
      "22/22 [==============================] - 6s 283ms/step - loss: 0.2037 - accuracy: 0.9250 - val_loss: 0.1880 - val_accuracy: 0.9319\n",
      "Epoch 22/50\n",
      "22/22 [==============================] - 6s 296ms/step - loss: 0.1860 - accuracy: 0.9314 - val_loss: 0.1754 - val_accuracy: 0.9408\n",
      "Epoch 23/50\n",
      "22/22 [==============================] - 6s 295ms/step - loss: 0.1747 - accuracy: 0.9388 - val_loss: 0.1817 - val_accuracy: 0.9387\n",
      "Epoch 24/50\n",
      "22/22 [==============================] - 6s 289ms/step - loss: 0.2402 - accuracy: 0.9194 - val_loss: 0.2694 - val_accuracy: 0.9004\n",
      "Epoch 25/50\n",
      "22/22 [==============================] - 6s 296ms/step - loss: 0.2231 - accuracy: 0.9155 - val_loss: 0.1877 - val_accuracy: 0.9356\n",
      "Epoch 26/50\n",
      "22/22 [==============================] - 6s 296ms/step - loss: 0.1775 - accuracy: 0.9378 - val_loss: 0.1672 - val_accuracy: 0.9436\n",
      "Epoch 27/50\n",
      "22/22 [==============================] - 6s 292ms/step - loss: 0.1666 - accuracy: 0.9403 - val_loss: 0.1592 - val_accuracy: 0.9432\n",
      "Epoch 28/50\n",
      "22/22 [==============================] - 6s 287ms/step - loss: 0.1496 - accuracy: 0.9466 - val_loss: 0.1681 - val_accuracy: 0.9408\n",
      "Epoch 29/50\n",
      "22/22 [==============================] - 6s 293ms/step - loss: 0.1457 - accuracy: 0.9487 - val_loss: 0.1607 - val_accuracy: 0.9428\n",
      "Epoch 30/50\n",
      "22/22 [==============================] - 6s 284ms/step - loss: 0.1439 - accuracy: 0.9488 - val_loss: 0.1656 - val_accuracy: 0.9448\n",
      "Epoch 31/50\n",
      "22/22 [==============================] - 6s 291ms/step - loss: 0.1366 - accuracy: 0.9519 - val_loss: 0.1558 - val_accuracy: 0.9425\n",
      "Epoch 32/50\n",
      "22/22 [==============================] - 6s 287ms/step - loss: 0.1306 - accuracy: 0.9532 - val_loss: 0.1436 - val_accuracy: 0.9487\n",
      "Epoch 33/50\n",
      "22/22 [==============================] - 6s 296ms/step - loss: 0.1303 - accuracy: 0.9538 - val_loss: 0.1565 - val_accuracy: 0.9501\n",
      "Epoch 34/50\n",
      "22/22 [==============================] - 6s 293ms/step - loss: 0.1235 - accuracy: 0.9573 - val_loss: 0.1459 - val_accuracy: 0.9485\n",
      "Epoch 35/50\n",
      "22/22 [==============================] - 6s 283ms/step - loss: 0.1314 - accuracy: 0.9541 - val_loss: 0.1563 - val_accuracy: 0.9463\n",
      "Epoch 36/50\n",
      "22/22 [==============================] - 7s 301ms/step - loss: 0.1237 - accuracy: 0.9556 - val_loss: 0.1684 - val_accuracy: 0.9458\n",
      "Epoch 37/50\n",
      "22/22 [==============================] - 6s 291ms/step - loss: 0.1210 - accuracy: 0.9573 - val_loss: 0.1405 - val_accuracy: 0.9545\n",
      "Epoch 38/50\n",
      "22/22 [==============================] - 7s 330ms/step - loss: 0.1089 - accuracy: 0.9632 - val_loss: 0.1330 - val_accuracy: 0.9550\n",
      "Epoch 39/50\n",
      "22/22 [==============================] - 8s 350ms/step - loss: 0.1070 - accuracy: 0.9619 - val_loss: 0.1516 - val_accuracy: 0.9541\n",
      "Epoch 40/50\n",
      "22/22 [==============================] - 7s 307ms/step - loss: 0.1063 - accuracy: 0.9620 - val_loss: 0.1306 - val_accuracy: 0.9565\n",
      "Epoch 41/50\n",
      "22/22 [==============================] - 6s 285ms/step - loss: 0.1006 - accuracy: 0.9647 - val_loss: 0.1438 - val_accuracy: 0.9554\n",
      "Epoch 42/50\n",
      "22/22 [==============================] - 6s 289ms/step - loss: 0.0986 - accuracy: 0.9664 - val_loss: 0.1403 - val_accuracy: 0.9523\n",
      "Epoch 43/50\n",
      "22/22 [==============================] - 6s 290ms/step - loss: 0.0972 - accuracy: 0.9654 - val_loss: 0.1354 - val_accuracy: 0.9565\n",
      "Epoch 44/50\n",
      "22/22 [==============================] - 6s 289ms/step - loss: 0.0919 - accuracy: 0.9688 - val_loss: 0.1387 - val_accuracy: 0.9560\n",
      "Epoch 45/50\n",
      "22/22 [==============================] - 7s 305ms/step - loss: 0.0946 - accuracy: 0.9671 - val_loss: 0.1288 - val_accuracy: 0.9570\n",
      "Epoch 46/50\n",
      "22/22 [==============================] - 7s 314ms/step - loss: 0.0923 - accuracy: 0.9680 - val_loss: 0.1459 - val_accuracy: 0.9563\n",
      "Epoch 47/50\n",
      "22/22 [==============================] - 7s 314ms/step - loss: 0.0866 - accuracy: 0.9706 - val_loss: 0.1513 - val_accuracy: 0.9512\n",
      "Epoch 48/50\n",
      "22/22 [==============================] - 6s 294ms/step - loss: 0.1031 - accuracy: 0.9622 - val_loss: 0.1359 - val_accuracy: 0.9576\n",
      "Epoch 49/50\n",
      "22/22 [==============================] - 6s 285ms/step - loss: 0.0886 - accuracy: 0.9689 - val_loss: 0.1469 - val_accuracy: 0.9572\n",
      "Epoch 50/50\n",
      "22/22 [==============================] - 6s 289ms/step - loss: 0.0831 - accuracy: 0.9714 - val_loss: 0.1549 - val_accuracy: 0.9549\n"
     ]
    }
   ],
   "source": [
    "#train our model 50 epochs\n",
    "history = model.fit(X_train, y_train, epochs = n_epochs, validation_split = 0.20, batch_size = batch_size, verbose = 1)"
   ]
  },
  {
   "cell_type": "markdown",
   "id": "42daf04b",
   "metadata": {},
   "source": [
    "# Plotting training and validation accuracy"
   ]
  },
  {
   "cell_type": "code",
   "execution_count": 130,
   "id": "ca24d09f",
   "metadata": {},
   "outputs": [
    {
     "data": {
      "image/png": "[encoded data removed]",
      "text/plain": [
       "<Figure size 640x480 with 1 Axes>"
      ]
     },
     "metadata": {},
     "output_type": "display_data"
    }
   ],
   "source": [
    "plt.plot(np.array(history.history['loss']), \"r--\", label = \"Train loss\")\n",
    "plt.plot(np.array(history.history['accuracy']), \"g--\", label = \"Train accuracy\")\n",
    "plt.plot(np.array(history.history['val_loss']), \"r-\", label = \"Validation loss\")\n",
    "plt.plot(np.array(history.history['val_accuracy']), \"g-\", label = \"Validation accuracy\")\n",
    "plt.title(\"Training session's progress over iterations\")\n",
    "plt.legend(loc='lower left')\n",
    "plt.ylabel('Training Progress (Loss/Accuracy)')\n",
    "plt.xlabel('Training Epoch')\n",
    "plt.ylim(0) \n",
    "plt.show()"
   ]
  }
 ],
 "metadata": {
  "kernelspec": {
   "display_name": "Python 3 (ipykernel)",
   "language": "python",
   "name": "python3"
  },
  "language_info": {
   "codemirror_mode": {
    "name": "ipython",
    "version": 3
   },
   "file_extension": ".py",
   "mimetype": "text/x-python",
   "name": "python",
   "nbconvert_exporter": "python",
   "pygments_lexer": "ipython3",
   "version": "3.9.13"
  }
 },
 "nbformat": 4,
 "nbformat_minor": 5
}
