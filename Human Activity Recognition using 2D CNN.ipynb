{
 "cells": [
  {
   "cell_type": "markdown",
   "id": "d80b0120",
   "metadata": {},
   "source": [
    "# Human Activity Recognition using 2D CNN"
   ]
  },
  {
   "cell_type": "code",
   "execution_count": 7,
   "id": "375cbdd8",
   "metadata": {},
   "outputs": [],
   "source": [
    "import tensorflow as tf\n",
    "import seaborn as sns\n",
    "from tensorflow.keras import Sequential\n",
    "from tensorflow.keras.layers import Flatten, Dense, Dropout, BatchNormalization\n",
    "from tensorflow.keras.layers import Conv2D, MaxPool2D\n",
    "from tensorflow.keras.optimizers import Adam\n",
    "import pandas as pd\n",
    "import numpy as np\n",
    "import matplotlib.pyplot as plt\n",
    "from sklearn.model_selection import train_test_split\n",
    "from sklearn.preprocessing import StandardScaler, LabelEncoder\n",
    "import scipy.stats as stats\n",
    "from mlxtend.plotting import plot_confusion_matrix\n",
    "from sklearn.metrics import confusion_matrix"
   ]
  },
  {
   "cell_type": "markdown",
   "id": "85880ad0",
   "metadata": {},
   "source": [
    "# Data Cleaning & Preprocessing"
   ]
  },
  {
   "cell_type": "code",
   "execution_count": 8,
   "id": "0c596650",
   "metadata": {},
   "outputs": [
    {
     "name": "stdout",
     "output_type": "stream",
     "text": [
      "An error happend in processing data line : 281873\n",
      "An error happend in processing data line : 281874\n",
      "An error happend in processing data line : 281875\n"
     ]
    }
   ],
   "source": [
    "#open data.txt\n",
    "file = open('data.txt')\n",
    "lines = file.readlines()\n",
    "#process lines and insert data to a list\n",
    "processedList = []\n",
    "for i, line in enumerate(lines):\n",
    "    try:\n",
    "        line = line.split(',')\n",
    "        last = line[5].split(';')[0]\n",
    "        last = last.strip()\n",
    "        if last == '':\n",
    "            break;\n",
    "        temp = [line[0], line[1], line[2], line[3], line[4], last]\n",
    "        processedList.append(temp)\n",
    "    except:\n",
    "        print(f'An error happend in processing data line : {i}')"
   ]
  },
  {
   "cell_type": "code",
   "execution_count": 9,
   "id": "0b238e6d",
   "metadata": {},
   "outputs": [
    {
     "data": {
      "text/html": [
       "<div>\n",
       "<style scoped>\n",
       "    .dataframe tbody tr th:only-of-type {\n",
       "        vertical-align: middle;\n",
       "    }\n",
       "\n",
       "    .dataframe tbody tr th {\n",
       "        vertical-align: top;\n",
       "    }\n",
       "\n",
       "    .dataframe thead th {\n",
       "        text-align: right;\n",
       "    }\n",
       "</style>\n",
       "<table border=\"1\" class=\"dataframe\">\n",
       "  <thead>\n",
       "    <tr style=\"text-align: right;\">\n",
       "      <th></th>\n",
       "      <th>User</th>\n",
       "      <th>Activity</th>\n",
       "      <th>Time</th>\n",
       "      <th>x</th>\n",
       "      <th>y</th>\n",
       "      <th>z</th>\n",
       "    </tr>\n",
       "  </thead>\n",
       "  <tbody>\n",
       "    <tr>\n",
       "      <th>0</th>\n",
       "      <td>33</td>\n",
       "      <td>Jogging</td>\n",
       "      <td>49105962326000</td>\n",
       "      <td>-0.6946377</td>\n",
       "      <td>12.680544</td>\n",
       "      <td>0.50395286</td>\n",
       "    </tr>\n",
       "    <tr>\n",
       "      <th>1</th>\n",
       "      <td>33</td>\n",
       "      <td>Jogging</td>\n",
       "      <td>49106062271000</td>\n",
       "      <td>5.012288</td>\n",
       "      <td>11.264028</td>\n",
       "      <td>0.95342433</td>\n",
       "    </tr>\n",
       "    <tr>\n",
       "      <th>2</th>\n",
       "      <td>33</td>\n",
       "      <td>Jogging</td>\n",
       "      <td>49106112167000</td>\n",
       "      <td>4.903325</td>\n",
       "      <td>10.882658</td>\n",
       "      <td>-0.08172209</td>\n",
       "    </tr>\n",
       "    <tr>\n",
       "      <th>3</th>\n",
       "      <td>33</td>\n",
       "      <td>Jogging</td>\n",
       "      <td>49106222305000</td>\n",
       "      <td>-0.61291564</td>\n",
       "      <td>18.496431</td>\n",
       "      <td>3.0237172</td>\n",
       "    </tr>\n",
       "    <tr>\n",
       "      <th>4</th>\n",
       "      <td>33</td>\n",
       "      <td>Jogging</td>\n",
       "      <td>49106332290000</td>\n",
       "      <td>-1.1849703</td>\n",
       "      <td>12.108489</td>\n",
       "      <td>7.205164</td>\n",
       "    </tr>\n",
       "  </tbody>\n",
       "</table>\n",
       "</div>"
      ],
      "text/plain": [
       "  User Activity            Time            x          y            z\n",
       "0   33  Jogging  49105962326000   -0.6946377  12.680544   0.50395286\n",
       "1   33  Jogging  49106062271000     5.012288  11.264028   0.95342433\n",
       "2   33  Jogging  49106112167000     4.903325  10.882658  -0.08172209\n",
       "3   33  Jogging  49106222305000  -0.61291564  18.496431    3.0237172\n",
       "4   33  Jogging  49106332290000   -1.1849703  12.108489     7.205164"
      ]
     },
     "execution_count": 9,
     "metadata": {},
     "output_type": "execute_result"
    }
   ],
   "source": [
    "#create a DataFrame with the processed data and proper column names \n",
    "columns = ['User', 'Activity', 'Time', 'x', 'y', 'z']\n",
    "data = pd.DataFrame(data = processedList, columns = columns)\n",
    "data.head()"
   ]
  },
  {
   "cell_type": "code",
   "execution_count": 10,
   "id": "45fb0a33",
   "metadata": {},
   "outputs": [],
   "source": [
    "#convert x,y,z to floar data type (Its string)\n",
    "data['x'] = data['x'].astype('float')\n",
    "data['y'] = data['y'].astype('float')\n",
    "data['z'] = data['z'].astype('float')"
   ]
  },
  {
   "cell_type": "code",
   "execution_count": 11,
   "id": "cdde6e87",
   "metadata": {},
   "outputs": [
    {
     "data": {
      "text/plain": [
       "Index(['Walking', 'Jogging', 'Upstairs', 'Downstairs', 'Sitting', 'Standing'], dtype='object')"
      ]
     },
     "execution_count": 11,
     "metadata": {},
     "output_type": "execute_result"
    }
   ],
   "source": [
    "#make list of activities \n",
    "activities = data['Activity'].value_counts().index\n",
    "activities"
   ]
  },
  {
   "cell_type": "code",
   "execution_count": 12,
   "id": "b2834432",
   "metadata": {},
   "outputs": [
    {
     "data": {
      "text/html": [
       "<div>\n",
       "<style scoped>\n",
       "    .dataframe tbody tr th:only-of-type {\n",
       "        vertical-align: middle;\n",
       "    }\n",
       "\n",
       "    .dataframe tbody tr th {\n",
       "        vertical-align: top;\n",
       "    }\n",
       "\n",
       "    .dataframe thead th {\n",
       "        text-align: right;\n",
       "    }\n",
       "</style>\n",
       "<table border=\"1\" class=\"dataframe\">\n",
       "  <thead>\n",
       "    <tr style=\"text-align: right;\">\n",
       "      <th></th>\n",
       "      <th>Activity</th>\n",
       "      <th>x</th>\n",
       "      <th>y</th>\n",
       "      <th>z</th>\n",
       "    </tr>\n",
       "  </thead>\n",
       "  <tbody>\n",
       "    <tr>\n",
       "      <th>0</th>\n",
       "      <td>Jogging</td>\n",
       "      <td>-0.694638</td>\n",
       "      <td>12.680544</td>\n",
       "      <td>0.503953</td>\n",
       "    </tr>\n",
       "    <tr>\n",
       "      <th>1</th>\n",
       "      <td>Jogging</td>\n",
       "      <td>5.012288</td>\n",
       "      <td>11.264028</td>\n",
       "      <td>0.953424</td>\n",
       "    </tr>\n",
       "    <tr>\n",
       "      <th>2</th>\n",
       "      <td>Jogging</td>\n",
       "      <td>4.903325</td>\n",
       "      <td>10.882658</td>\n",
       "      <td>-0.081722</td>\n",
       "    </tr>\n",
       "    <tr>\n",
       "      <th>3</th>\n",
       "      <td>Jogging</td>\n",
       "      <td>-0.612916</td>\n",
       "      <td>18.496431</td>\n",
       "      <td>3.023717</td>\n",
       "    </tr>\n",
       "    <tr>\n",
       "      <th>4</th>\n",
       "      <td>Jogging</td>\n",
       "      <td>-1.184970</td>\n",
       "      <td>12.108489</td>\n",
       "      <td>7.205164</td>\n",
       "    </tr>\n",
       "  </tbody>\n",
       "</table>\n",
       "</div>"
      ],
      "text/plain": [
       "  Activity         x          y         z\n",
       "0  Jogging -0.694638  12.680544  0.503953\n",
       "1  Jogging  5.012288  11.264028  0.953424\n",
       "2  Jogging  4.903325  10.882658 -0.081722\n",
       "3  Jogging -0.612916  18.496431  3.023717\n",
       "4  Jogging -1.184970  12.108489  7.205164"
      ]
     },
     "execution_count": 12,
     "metadata": {},
     "output_type": "execute_result"
    }
   ],
   "source": [
    "#drop User and Time columns\n",
    "df = data.drop(['User', 'Time'], axis = 1).copy()\n",
    "df.head()"
   ]
  },
  {
   "cell_type": "markdown",
   "id": "8fb05ef6",
   "metadata": {},
   "source": [
    "# Analyzing class label distribution"
   ]
  },
  {
   "cell_type": "code",
   "execution_count": 13,
   "id": "e84fbd25",
   "metadata": {},
   "outputs": [
    {
     "data": {
      "image/png": "[encoded data removed]",
      "text/plain": [
       "<Figure size 640x480 with 1 Axes>"
      ]
     },
     "metadata": {},
     "output_type": "display_data"
    }
   ],
   "source": [
    "sns.set_style('whitegrid')\n",
    "sns.countplot(x = 'Activity', data = df)\n",
    "plt.title('Number of Activities')\n",
    "plt.show()"
   ]
  },
  {
   "cell_type": "code",
   "execution_count": 16,
   "id": "f0f95de2",
   "metadata": {},
   "outputs": [
    {
     "data": {
      "text/plain": [
       "Walking       137375\n",
       "Jogging       129392\n",
       "Upstairs       35137\n",
       "Downstairs     33358\n",
       "Sitting         4599\n",
       "Standing        3555\n",
       "Name: Activity, dtype: int64"
      ]
     },
     "execution_count": 16,
     "metadata": {},
     "output_type": "execute_result"
    }
   ],
   "source": [
    "data['Activity'].value_counts()"
   ]
  },
  {
   "cell_type": "markdown",
   "id": "f7cca88e",
   "metadata": {},
   "source": [
    "The data is unbalanced. We need to balance data.If we use this unbalance data our model will overfit"
   ]
  },
  {
   "cell_type": "code",
   "execution_count": 17,
   "id": "09f6f057",
   "metadata": {},
   "outputs": [
    {
     "name": "stderr",
     "output_type": "stream",
     "text": [
      "C:\\Users\\Alireza\\AppData\\Local\\Temp\\ipykernel_20504\\536176885.py:12: FutureWarning: The frame.append method is deprecated and will be removed from pandas in a future version. Use pandas.concat instead.\n",
      "  balanced_data = balanced_data.append([Walking, Jogging, Upstairs, Downstairs, Sitting, Standing])\n"
     ]
    },
    {
     "data": {
      "text/plain": [
       "(21330, 4)"
      ]
     },
     "execution_count": 17,
     "metadata": {},
     "output_type": "execute_result"
    }
   ],
   "source": [
    "#take only the first 3555 lines for each activity\n",
    "#create seprate data frames for each activity\n",
    "Walking = df[df['Activity']=='Walking'].head(3555).copy()\n",
    "Jogging = df[df['Activity']=='Jogging'].head(3555).copy()\n",
    "Upstairs = df[df['Activity']=='Upstairs'].head(3555).copy()\n",
    "Downstairs = df[df['Activity']=='Downstairs'].head(3555).copy()\n",
    "Sitting = df[df['Activity']=='Sitting'].head(3555).copy()\n",
    "Standing = df[df['Activity']=='Standing'].copy()\n",
    "\n",
    "#create balance data frame\n",
    "balanced_data = pd.DataFrame()\n",
    "balanced_data = balanced_data.append([Walking, Jogging, Upstairs, Downstairs, Sitting, Standing])\n",
    "balanced_data.shape"
   ]
  },
  {
   "cell_type": "code",
   "execution_count": 18,
   "id": "40f97839",
   "metadata": {},
   "outputs": [
    {
     "data": {
      "text/plain": [
       "Walking       3555\n",
       "Jogging       3555\n",
       "Upstairs      3555\n",
       "Downstairs    3555\n",
       "Sitting       3555\n",
       "Standing      3555\n",
       "Name: Activity, dtype: int64"
      ]
     },
     "execution_count": 18,
     "metadata": {},
     "output_type": "execute_result"
    }
   ],
   "source": [
    "#see the distribution of data\n",
    "balanced_data['Activity'].value_counts()"
   ]
  },
  {
   "cell_type": "code",
   "execution_count": 19,
   "id": "1acf06d5",
   "metadata": {},
   "outputs": [
    {
     "data": {
      "image/png": "[encoded data removed]",
      "text/plain": [
       "<Figure size 640x480 with 1 Axes>"
      ]
     },
     "metadata": {},
     "output_type": "display_data"
    }
   ],
   "source": [
    "sns.set_style('whitegrid')\n",
    "sns.countplot(x = 'Activity', data = balanced_data)\n",
    "plt.title('Number of activities')\n",
    "plt.show()"
   ]
  },
  {
   "cell_type": "code",
   "execution_count": 17,
   "id": "eacd3bba",
   "metadata": {},
   "outputs": [
    {
     "data": {
      "text/plain": [
       "array(['Downstairs', 'Jogging', 'Sitting', 'Standing', 'Upstairs',\n",
       "       'Walking'], dtype=object)"
      ]
     },
     "execution_count": 17,
     "metadata": {},
     "output_type": "execute_result"
    }
   ],
   "source": [
    "#convert string to numeric datatype by LabelEncoder from sklearn\n",
    "label = LabelEncoder()\n",
    "balanced_data['label'] = label.fit_transform(balanced_data['Activity'])\n",
    "label.classes_"
   ]
  },
  {
   "cell_type": "code",
   "execution_count": 18,
   "id": "21f554c9",
   "metadata": {},
   "outputs": [
    {
     "data": {
      "text/html": [
       "<div>\n",
       "<style scoped>\n",
       "    .dataframe tbody tr th:only-of-type {\n",
       "        vertical-align: middle;\n",
       "    }\n",
       "\n",
       "    .dataframe tbody tr th {\n",
       "        vertical-align: top;\n",
       "    }\n",
       "\n",
       "    .dataframe thead th {\n",
       "        text-align: right;\n",
       "    }\n",
       "</style>\n",
       "<table border=\"1\" class=\"dataframe\">\n",
       "  <thead>\n",
       "    <tr style=\"text-align: right;\">\n",
       "      <th></th>\n",
       "      <th>Activity</th>\n",
       "      <th>x</th>\n",
       "      <th>y</th>\n",
       "      <th>z</th>\n",
       "      <th>label</th>\n",
       "    </tr>\n",
       "  </thead>\n",
       "  <tbody>\n",
       "    <tr>\n",
       "      <th>597</th>\n",
       "      <td>Walking</td>\n",
       "      <td>0.844462</td>\n",
       "      <td>8.008764</td>\n",
       "      <td>2.792171</td>\n",
       "      <td>5</td>\n",
       "    </tr>\n",
       "    <tr>\n",
       "      <th>598</th>\n",
       "      <td>Walking</td>\n",
       "      <td>1.116869</td>\n",
       "      <td>8.621680</td>\n",
       "      <td>3.786457</td>\n",
       "      <td>5</td>\n",
       "    </tr>\n",
       "    <tr>\n",
       "      <th>599</th>\n",
       "      <td>Walking</td>\n",
       "      <td>-0.503953</td>\n",
       "      <td>16.657684</td>\n",
       "      <td>1.307553</td>\n",
       "      <td>5</td>\n",
       "    </tr>\n",
       "    <tr>\n",
       "      <th>600</th>\n",
       "      <td>Walking</td>\n",
       "      <td>4.794363</td>\n",
       "      <td>10.760075</td>\n",
       "      <td>-1.184970</td>\n",
       "      <td>5</td>\n",
       "    </tr>\n",
       "    <tr>\n",
       "      <th>601</th>\n",
       "      <td>Walking</td>\n",
       "      <td>-0.040861</td>\n",
       "      <td>9.234595</td>\n",
       "      <td>-0.694638</td>\n",
       "      <td>5</td>\n",
       "    </tr>\n",
       "  </tbody>\n",
       "</table>\n",
       "</div>"
      ],
      "text/plain": [
       "    Activity         x          y         z  label\n",
       "597  Walking  0.844462   8.008764  2.792171      5\n",
       "598  Walking  1.116869   8.621680  3.786457      5\n",
       "599  Walking -0.503953  16.657684  1.307553      5\n",
       "600  Walking  4.794363  10.760075 -1.184970      5\n",
       "601  Walking -0.040861   9.234595 -0.694638      5"
      ]
     },
     "execution_count": 18,
     "metadata": {},
     "output_type": "execute_result"
    }
   ],
   "source": [
    "#check out balance data\n",
    "balanced_data.head()"
   ]
  },
  {
   "cell_type": "markdown",
   "id": "3fc8c8b0",
   "metadata": {},
   "source": [
    "# Standarizing Data"
   ]
  },
  {
   "cell_type": "code",
   "execution_count": 22,
   "id": "80fb5c7e",
   "metadata": {},
   "outputs": [
    {
     "data": {
      "text/plain": [
       "597    5\n",
       "598    5\n",
       "599    5\n",
       "600    5\n",
       "601    5\n",
       "Name: label, dtype: int32"
      ]
     },
     "execution_count": 22,
     "metadata": {},
     "output_type": "execute_result"
    }
   ],
   "source": [
    "#we neeed to standarize our data (cause x,y,z dont have same variance)\n",
    "Data = balanced_data[['x', 'y', 'z']]\n",
    "labels = balanced_data['label']\n",
    "Data.head()\n",
    "labels.head()"
   ]
  },
  {
   "cell_type": "code",
   "execution_count": 24,
   "id": "fef2b8e3",
   "metadata": {},
   "outputs": [
    {
     "data": {
      "text/html": [
       "<div>\n",
       "<style scoped>\n",
       "    .dataframe tbody tr th:only-of-type {\n",
       "        vertical-align: middle;\n",
       "    }\n",
       "\n",
       "    .dataframe tbody tr th {\n",
       "        vertical-align: top;\n",
       "    }\n",
       "\n",
       "    .dataframe thead th {\n",
       "        text-align: right;\n",
       "    }\n",
       "</style>\n",
       "<table border=\"1\" class=\"dataframe\">\n",
       "  <thead>\n",
       "    <tr style=\"text-align: right;\">\n",
       "      <th></th>\n",
       "      <th>x</th>\n",
       "      <th>y</th>\n",
       "      <th>z</th>\n",
       "      <th>label</th>\n",
       "    </tr>\n",
       "  </thead>\n",
       "  <tbody>\n",
       "    <tr>\n",
       "      <th>0</th>\n",
       "      <td>0.000503</td>\n",
       "      <td>-0.099190</td>\n",
       "      <td>0.337933</td>\n",
       "      <td>5</td>\n",
       "    </tr>\n",
       "    <tr>\n",
       "      <th>1</th>\n",
       "      <td>0.073590</td>\n",
       "      <td>0.020386</td>\n",
       "      <td>0.633446</td>\n",
       "      <td>5</td>\n",
       "    </tr>\n",
       "    <tr>\n",
       "      <th>2</th>\n",
       "      <td>-0.361275</td>\n",
       "      <td>1.588160</td>\n",
       "      <td>-0.103312</td>\n",
       "      <td>5</td>\n",
       "    </tr>\n",
       "    <tr>\n",
       "      <th>3</th>\n",
       "      <td>1.060258</td>\n",
       "      <td>0.437573</td>\n",
       "      <td>-0.844119</td>\n",
       "      <td>5</td>\n",
       "    </tr>\n",
       "    <tr>\n",
       "      <th>4</th>\n",
       "      <td>-0.237028</td>\n",
       "      <td>0.139962</td>\n",
       "      <td>-0.698386</td>\n",
       "      <td>5</td>\n",
       "    </tr>\n",
       "  </tbody>\n",
       "</table>\n",
       "</div>"
      ],
      "text/plain": [
       "          x         y         z  label\n",
       "0  0.000503 -0.099190  0.337933      5\n",
       "1  0.073590  0.020386  0.633446      5\n",
       "2 -0.361275  1.588160 -0.103312      5\n",
       "3  1.060258  0.437573 -0.844119      5\n",
       "4 -0.237028  0.139962 -0.698386      5"
      ]
     },
     "execution_count": 24,
     "metadata": {},
     "output_type": "execute_result"
    }
   ],
   "source": [
    "#for standarizing data use StandardScaler() from sklearn/\n",
    "scaler = StandardScaler()\n",
    "Data = scaler.fit_transform(Data)\n",
    "ScaledData = pd.DataFrame(data = Data, columns = ['x', 'y', 'z'])\n",
    "ScaledData['label'] = labels.values\n",
    "ScaledData.head()"
   ]
  },
  {
   "cell_type": "markdown",
   "id": "b193351a",
   "metadata": {},
   "source": [
    "# Preparing Data"
   ]
  },
  {
   "cell_type": "code",
   "execution_count": 29,
   "id": "3f1292ae",
   "metadata": {},
   "outputs": [],
   "source": [
    "#divide the data into frames of 4 seconds by scipy.stats\n",
    "Fs = 20\n",
    "FrameSize = Fs*4 #*0 seconds\n",
    "#hop size is our overlapping\n",
    "HopSize = Fs*2 #40 seconds"
   ]
  },
  {
   "cell_type": "code",
   "execution_count": 30,
   "id": "341f57b3",
   "metadata": {},
   "outputs": [],
   "source": [
    "#creates frames of 4 seconds(80 observations)\n",
    "#returns two np.arrays.rames containing all the 4 seconds frames and \n",
    "#labels containing its corresponding data \n",
    "def GetFrames(df, frame_size, hop_size):\n",
    "\n",
    "    N_FEATURES = 3\n",
    "\n",
    "    frames = []\n",
    "    labels = []\n",
    "    for i in range(0, len(df) - frame_size, hop_size):\n",
    "        x = df['x'].values[i: i + frame_size]\n",
    "        y = df['y'].values[i: i + frame_size]\n",
    "        z = df['z'].values[i: i + frame_size]\n",
    "        \n",
    "        # Retrieve the most often used label in this segment\n",
    "        label = stats.mode(df['label'][i: i + frame_size])[0][0]\n",
    "        frames.append([x, y, z])\n",
    "        labels.append(label)\n",
    "\n",
    "    # Bring the segments into a better shape\n",
    "    frames = np.asarray(frames).reshape(-1, frame_size, N_FEATURES)\n",
    "    labels = np.asarray(labels)\n",
    "\n",
    "    return frames, labels"
   ]
  },
  {
   "cell_type": "code",
   "execution_count": 34,
   "id": "a81ead86",
   "metadata": {},
   "outputs": [
    {
     "name": "stderr",
     "output_type": "stream",
     "text": [
      "C:\\Users\\Alireza\\AppData\\Local\\Temp\\ipykernel_12164\\1555157123.py:14: FutureWarning: Unlike other reduction functions (e.g. `skew`, `kurtosis`), the default behavior of `mode` typically preserves the axis it acts along. In SciPy 1.11.0, this behavior will change: the default value of `keepdims` will become False, the `axis` over which the statistic is taken will be eliminated, and the value None will no longer be accepted. Set `keepdims` to True or False to avoid this warning.\n",
      "  label = stats.mode(df['label'][i: i + frame_size])[0][0]\n"
     ]
    },
    {
     "data": {
      "text/plain": [
       "((532, 80, 3), (532,))"
      ]
     },
     "execution_count": 34,
     "metadata": {},
     "output_type": "execute_result"
    }
   ],
   "source": [
    "X,Y = GetFrames(ScaledData,FrameSize,HopSize)\n",
    "\n",
    "X.shape, Y.shape"
   ]
  },
  {
   "cell_type": "code",
   "execution_count": 36,
   "id": "7b08919c",
   "metadata": {},
   "outputs": [
    {
     "data": {
      "text/plain": [
       "533.25"
      ]
     },
     "execution_count": 36,
     "metadata": {},
     "output_type": "execute_result"
    }
   ],
   "source": [
    "#we had 3555 observation for each activities.So we have total (3555*6)\n",
    "#observations.This devide by the hop size which is 40.So we have 532 frames\\\n",
    "#in our data\n",
    "(3555*6)/40"
   ]
  },
  {
   "cell_type": "code",
   "execution_count": 42,
   "id": "37b87f40",
   "metadata": {},
   "outputs": [],
   "source": [
    "#we devide the data into training and test data \n",
    "#using train_test_split() from sklearn\n",
    "#We are going to use 80% of the data for training model(Its collected from \n",
    "#readme text)\n",
    "X_train, X_test, y_train, y_test = train_test_split(X, Y, test_size = 0.2, random_state = 0, stratify = Y)"
   ]
  },
  {
   "cell_type": "code",
   "execution_count": 43,
   "id": "b642f3a0",
   "metadata": {},
   "outputs": [
    {
     "data": {
      "text/plain": [
       "((425, 80, 3), (107, 80, 3))"
      ]
     },
     "execution_count": 43,
     "metadata": {},
     "output_type": "execute_result"
    }
   ],
   "source": [
    "X_train.shape, X_test.shape"
   ]
  },
  {
   "cell_type": "code",
   "execution_count": 51,
   "id": "2860b85e",
   "metadata": {},
   "outputs": [
    {
     "data": {
      "text/plain": [
       "((80, 3), (80, 3))"
      ]
     },
     "execution_count": 51,
     "metadata": {},
     "output_type": "execute_result"
    }
   ],
   "source": [
    "X_train[0].shape, X_test[0].shape"
   ]
  },
  {
   "cell_type": "code",
   "execution_count": 54,
   "id": "ece58288",
   "metadata": {},
   "outputs": [
    {
     "data": {
      "text/plain": [
       "((80, 3, 1), (80, 3, 1))"
      ]
     },
     "execution_count": 54,
     "metadata": {},
     "output_type": "execute_result"
    }
   ],
   "source": [
    "#we  want to use CNN model so we have to reshape our data\n",
    "X_train = X_train.reshape(425, 80, 3, 1)\n",
    "X_test = X_test.reshape(107, 80, 3, 1)\n",
    "X_train[0].shape, X_test[0].shape"
   ]
  },
  {
   "cell_type": "markdown",
   "id": "37c1c393",
   "metadata": {},
   "source": [
    "# Model Training & Evaluation"
   ]
  },
  {
   "cell_type": "markdown",
   "id": "05d5d4b7",
   "metadata": {},
   "source": [
    "A 2-D convolutional layer applies sliding convolutional filters to 2-D input. The layer convolves the input by moving the filters along the input vertically and horizontally, computing the dot product of the weights and the input, and then adding a bias term."
   ]
  },
  {
   "cell_type": "code",
   "execution_count": 78,
   "id": "3c8a5748",
   "metadata": {},
   "outputs": [],
   "source": [
    "#create model \n",
    "#add sequence layer\n",
    "model = Sequential()\n",
    "#add first layer 16(filters for first layer,(2,2)kernel size\n",
    "#for the first layer we need to pass input\n",
    "model.add(Conv2D(16, (2, 2), activation = 'relu', input_shape = X_train[0].shape))\n",
    "#ten percent of neurons\n",
    "model.add(Dropout(0.1))\n",
    "\n",
    "#second layer(we dont need pass input in hidden layer)\n",
    "model.add(Conv2D(32, (2, 2), activation='relu'))\n",
    "model.add(Dropout(0.2))\n",
    "\n",
    "model.add(Flatten())\n",
    "\n",
    "model.add(Dense(64, activation = 'relu'))\n",
    "model.add(Dropout(0.5))\n",
    "\n",
    "#last layer(We have 6 classes)\n",
    "model.add(Dense(6, activation='softmax'))"
   ]
  },
  {
   "cell_type": "code",
   "execution_count": 79,
   "id": "40a60706",
   "metadata": {},
   "outputs": [
    {
     "name": "stdout",
     "output_type": "stream",
     "text": [
      "Epoch 1/10\n",
      "14/14 [==============================] - 1s 15ms/step - loss: 1.6744 - accuracy: 0.2682 - val_loss: 1.4167 - val_accuracy: 0.4486\n",
      "Epoch 2/10\n",
      "14/14 [==============================] - 0s 7ms/step - loss: 1.3782 - accuracy: 0.4094 - val_loss: 1.1171 - val_accuracy: 0.7664\n",
      "Epoch 3/10\n",
      "14/14 [==============================] - 0s 7ms/step - loss: 1.0572 - accuracy: 0.6306 - val_loss: 0.7854 - val_accuracy: 0.8224\n",
      "Epoch 4/10\n",
      "14/14 [==============================] - 0s 7ms/step - loss: 0.7999 - accuracy: 0.7459 - val_loss: 0.5712 - val_accuracy: 0.8318\n",
      "Epoch 5/10\n",
      "14/14 [==============================] - 0s 7ms/step - loss: 0.6588 - accuracy: 0.7859 - val_loss: 0.4508 - val_accuracy: 0.8411\n",
      "Epoch 6/10\n",
      "14/14 [==============================] - 0s 7ms/step - loss: 0.4725 - accuracy: 0.8376 - val_loss: 0.3352 - val_accuracy: 0.8879\n",
      "Epoch 7/10\n",
      "14/14 [==============================] - 0s 7ms/step - loss: 0.3957 - accuracy: 0.8753 - val_loss: 0.3485 - val_accuracy: 0.8692\n",
      "Epoch 8/10\n",
      "14/14 [==============================] - 0s 7ms/step - loss: 0.3648 - accuracy: 0.8824 - val_loss: 0.2882 - val_accuracy: 0.8785\n",
      "Epoch 9/10\n",
      "14/14 [==============================] - 0s 7ms/step - loss: 0.2600 - accuracy: 0.9176 - val_loss: 0.2569 - val_accuracy: 0.9159\n",
      "Epoch 10/10\n",
      "14/14 [==============================] - 0s 7ms/step - loss: 0.2295 - accuracy: 0.9200 - val_loss: 0.2431 - val_accuracy: 0.8972\n"
     ]
    }
   ],
   "source": [
    "#complile our model\n",
    "#our model will build based on accuracy\n",
    "model.compile(optimizer=Adam(learning_rate = 0.001), loss = 'sparse_categorical_crossentropy', metrics = ['accuracy'])\n",
    "history = model.fit(X_train, y_train, epochs = 10, validation_data= (X_test, y_test), verbose=1)"
   ]
  },
  {
   "cell_type": "markdown",
   "id": "22581501",
   "metadata": {},
   "source": [
    "# Plot training & validation accuracy values"
   ]
  },
  {
   "cell_type": "code",
   "execution_count": 80,
   "id": "0399bd81",
   "metadata": {},
   "outputs": [],
   "source": [
    "def PlotLearningCurve(history, epochs):\n",
    "  epoch_range = range(1, epochs+1)\n",
    "  plt.plot(epoch_range, history.history['accuracy'])\n",
    "  plt.plot(epoch_range, history.history['val_accuracy'])\n",
    "  plt.title('Model accuracy')\n",
    "  plt.ylabel('Accuracy')\n",
    "  plt.xlabel('Epoch')\n",
    "  plt.legend(['Train', 'Val'], loc='upper left')\n",
    "  plt.show()\n",
    "\n",
    "  # Plot training & validation loss values\n",
    "  plt.plot(epoch_range, history.history['loss'])\n",
    "  plt.plot(epoch_range, history.history['val_loss'])\n",
    "  plt.title('Model loss')\n",
    "  plt.ylabel('Loss')\n",
    "  plt.xlabel('Epoch')\n",
    "  plt.legend(['Train', 'Val'], loc='upper left')\n",
    "  plt.show()"
   ]
  },
  {
   "cell_type": "code",
   "execution_count": 81,
   "id": "300a4b22",
   "metadata": {},
   "outputs": [
    {
     "data": {
      "image/png": "[encoded data removed]",
      "text/plain": [
       "<Figure size 640x480 with 1 Axes>"
      ]
     },
     "metadata": {},
     "output_type": "display_data"
    },
    {
     "data": {
      "image/png": "[encoded data removed]",
      "text/plain": [
       "<Figure size 640x480 with 1 Axes>"
      ]
     },
     "metadata": {},
     "output_type": "display_data"
    }
   ],
   "source": [
    "plot_learningCurve(history, 10)"
   ]
  }
 ],
 "metadata": {
  "kernelspec": {
   "display_name": "Python 3 (ipykernel)",
   "language": "python",
   "name": "python3"
  },
  "language_info": {
   "codemirror_mode": {
    "name": "ipython",
    "version": 3
   },
   "file_extension": ".py",
   "mimetype": "text/x-python",
   "name": "python",
   "nbconvert_exporter": "python",
   "pygments_lexer": "ipython3",
   "version": "3.9.13"
  }
 },
 "nbformat": 4,
 "nbformat_minor": 5
}
